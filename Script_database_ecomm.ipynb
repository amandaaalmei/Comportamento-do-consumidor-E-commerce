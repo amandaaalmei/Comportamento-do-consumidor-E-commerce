{
  "nbformat": 4,
  "nbformat_minor": 0,
  "metadata": {
    "colab": {
      "provenance": []
    },
    "kernelspec": {
      "name": "python3",
      "display_name": "Python 3"
    },
    "language_info": {
      "name": "python"
    }
  },
  "cells": [
    {
      "cell_type": "markdown",
      "source": [
        "A base de dados foi extraída do Kaggle, disponível em: https://www.kaggle.com/datasets/mkechinov/ecommerce-behavior-data-from-multi-category-store/data"
      ],
      "metadata": {
        "id": "8vaT1bABhYp5"
      }
    },
    {
      "cell_type": "code",
      "execution_count": 1,
      "metadata": {
        "id": "QGOxIQUS4182"
      },
      "outputs": [],
      "source": [
        "## Importando as bibliotecas ##\n",
        "import pandas as pd\n",
        "import matplotlib.pyplot as plt\n",
        "import seaborn as sns\n",
        "import numpy as np\n",
        "from datetime import datetime"
      ]
    },
    {
      "cell_type": "code",
      "source": [
        "# Utilizando a base de dados em json\n",
        "\n",
        "# Importando o arquivo json\n",
        "df = pd.read_json('/content/apr_2020.json', '/content/dez_2019.json', '/content/feb_2020.json', '/content/jan_2020.json', '/content/mar_2020.json', '/content/nov_2019.json', '/content/out_2019.json' )\n",
        "\n"
      ],
      "metadata": {
        "colab": {
          "base_uri": "https://localhost:8080/"
        },
        "id": "M_CfMjLpcx1J",
        "outputId": "b963c79b-fc9f-4e15-e885-8e84b291cd2a"
      },
      "execution_count": 2,
      "outputs": [
        {
          "output_type": "stream",
          "name": "stderr",
          "text": [
            "<ipython-input-2-94263b5b8618>:4: FutureWarning: Starting with pandas version 2.0 all arguments of read_json except for the argument 'path_or_buf' will be keyword-only.\n",
            "  df = pd.read_json('/content/apr_2020.json', '/content/dez_2019.json', '/content/feb_2020.json', '/content/jan_2020.json', '/content/mar_2020.json', '/content/nov_2019.json', '/content/out_2019.json' )\n"
          ]
        }
      ]
    },
    {
      "cell_type": "code",
      "source": [
        "## Listando os caminhos dos arquivos .json\n",
        "df_out_2019 = pd.read_json('/content/out_2019.json')\n",
        "df_nov_2019 = pd.read_json ('/content/nov_2019.json')\n",
        "df_dec_2019 = pd.read_json('/content/dez_2019.json')\n",
        "df_apr_2020 = pd.read_json ('/content/apr_2020.json')\n",
        "df_feb_2020 = pd.read_json ('/content/feb_2020.json')\n",
        "df_jan_2020 = pd.read_json ('/content/jan_2020.json')\n",
        "df_mar_2020 = pd.read_json ('/content/mar_2020.json')"
      ],
      "metadata": {
        "id": "X-oO7Vvfrvb3"
      },
      "execution_count": 3,
      "outputs": []
    },
    {
      "cell_type": "markdown",
      "source": [
        "Informações relevantes:\n",
        "\n",
        "*   A base de dados foi importada diretamente para o colab e estará disponível nos arquivos do análise;\n",
        "*   A base de dados original foi disponibilizada em csv, porém foi transformado para json pela facilidade na manipulação e melhor performance;\n",
        "\n"
      ],
      "metadata": {
        "id": "eVb3YKjfgKtr"
      }
    },
    {
      "cell_type": "code",
      "source": [
        "# Verificando os tipos de dados para todos os meses\n",
        "df_dec_2019.info()"
      ],
      "metadata": {
        "colab": {
          "base_uri": "https://localhost:8080/"
        },
        "id": "wLDC7_fGeHsQ",
        "outputId": "baa0d88d-a1f7-4879-9a44-7acf227e2c5d"
      },
      "execution_count": 4,
      "outputs": [
        {
          "output_type": "stream",
          "name": "stdout",
          "text": [
            "<class 'pandas.core.frame.DataFrame'>\n",
            "RangeIndex: 55981 entries, 0 to 55980\n",
            "Data columns (total 9 columns):\n",
            " #   Column         Non-Null Count  Dtype              \n",
            "---  ------         --------------  -----              \n",
            " 0   event_time     55981 non-null  datetime64[ns, UTC]\n",
            " 1   event_type     55981 non-null  object             \n",
            " 2   product_id     55981 non-null  int64              \n",
            " 3   category_id    55981 non-null  int64              \n",
            " 4   category_code  55981 non-null  object             \n",
            " 5   brand          46758 non-null  object             \n",
            " 6   price          55981 non-null  float64            \n",
            " 7   user_id        55981 non-null  int64              \n",
            " 8   user_session   55980 non-null  object             \n",
            "dtypes: datetime64[ns, UTC](1), float64(1), int64(3), object(4)\n",
            "memory usage: 3.8+ MB\n"
          ]
        }
      ]
    },
    {
      "cell_type": "code",
      "source": [
        "df_nov_2019.info()"
      ],
      "metadata": {
        "colab": {
          "base_uri": "https://localhost:8080/"
        },
        "id": "ft9A3BtUv1Gw",
        "outputId": "52667b6b-84c4-4585-a254-c0f5c0c2c4a3"
      },
      "execution_count": 5,
      "outputs": [
        {
          "output_type": "stream",
          "name": "stdout",
          "text": [
            "<class 'pandas.core.frame.DataFrame'>\n",
            "RangeIndex: 59954 entries, 0 to 59953\n",
            "Data columns (total 9 columns):\n",
            " #   Column         Non-Null Count  Dtype              \n",
            "---  ------         --------------  -----              \n",
            " 0   event_time     59954 non-null  datetime64[ns, UTC]\n",
            " 1   event_type     59954 non-null  object             \n",
            " 2   product_id     59954 non-null  int64              \n",
            " 3   category_id    59954 non-null  int64              \n",
            " 4   category_code  30444 non-null  object             \n",
            " 5   brand          48182 non-null  object             \n",
            " 6   price          59954 non-null  float64            \n",
            " 7   user_id        59954 non-null  int64              \n",
            " 8   user_session   59954 non-null  object             \n",
            "dtypes: datetime64[ns, UTC](1), float64(1), int64(3), object(4)\n",
            "memory usage: 4.1+ MB\n"
          ]
        }
      ]
    },
    {
      "cell_type": "code",
      "source": [
        "df_out_2019.info()"
      ],
      "metadata": {
        "colab": {
          "base_uri": "https://localhost:8080/"
        },
        "id": "aaE7kiD-v4fd",
        "outputId": "dd4a375f-8cf6-48d0-9064-1b74a75edd2b"
      },
      "execution_count": 6,
      "outputs": [
        {
          "output_type": "stream",
          "name": "stdout",
          "text": [
            "<class 'pandas.core.frame.DataFrame'>\n",
            "RangeIndex: 60221 entries, 0 to 60220\n",
            "Data columns (total 9 columns):\n",
            " #   Column         Non-Null Count  Dtype              \n",
            "---  ------         --------------  -----              \n",
            " 0   event_time     60221 non-null  datetime64[ns, UTC]\n",
            " 1   event_type     60221 non-null  object             \n",
            " 2   product_id     60221 non-null  int64              \n",
            " 3   category_id    60221 non-null  int64              \n",
            " 4   category_code  29661 non-null  object             \n",
            " 5   brand          47188 non-null  object             \n",
            " 6   price          60221 non-null  float64            \n",
            " 7   user_id        60221 non-null  int64              \n",
            " 8   user_session   60221 non-null  object             \n",
            "dtypes: datetime64[ns, UTC](1), float64(1), int64(3), object(4)\n",
            "memory usage: 4.1+ MB\n"
          ]
        }
      ]
    },
    {
      "cell_type": "code",
      "source": [
        "df_jan_2020.info()"
      ],
      "metadata": {
        "colab": {
          "base_uri": "https://localhost:8080/"
        },
        "id": "eWyVtimIwvF0",
        "outputId": "2ae8bb02-71e6-4717-a019-6abbb52fb14d"
      },
      "execution_count": 7,
      "outputs": [
        {
          "output_type": "stream",
          "name": "stdout",
          "text": [
            "<class 'pandas.core.frame.DataFrame'>\n",
            "RangeIndex: 55851 entries, 0 to 55850\n",
            "Data columns (total 9 columns):\n",
            " #   Column         Non-Null Count  Dtype              \n",
            "---  ------         --------------  -----              \n",
            " 0   event_time     55851 non-null  datetime64[ns, UTC]\n",
            " 1   event_type     55851 non-null  object             \n",
            " 2   product_id     55851 non-null  int64              \n",
            " 3   category_id    55851 non-null  int64              \n",
            " 4   category_code  55851 non-null  object             \n",
            " 5   brand          47164 non-null  object             \n",
            " 6   price          55851 non-null  float64            \n",
            " 7   user_id        55851 non-null  int64              \n",
            " 8   user_session   55851 non-null  object             \n",
            "dtypes: datetime64[ns, UTC](1), float64(1), int64(3), object(4)\n",
            "memory usage: 3.8+ MB\n"
          ]
        }
      ]
    },
    {
      "cell_type": "code",
      "source": [
        "df_feb_2020.info()"
      ],
      "metadata": {
        "colab": {
          "base_uri": "https://localhost:8080/"
        },
        "id": "rSq3BDqgw2t8",
        "outputId": "646f8a0b-89f4-42ac-e174-4d10f40a3010"
      },
      "execution_count": 8,
      "outputs": [
        {
          "output_type": "stream",
          "name": "stdout",
          "text": [
            "<class 'pandas.core.frame.DataFrame'>\n",
            "RangeIndex: 56064 entries, 0 to 56063\n",
            "Data columns (total 9 columns):\n",
            " #   Column         Non-Null Count  Dtype              \n",
            "---  ------         --------------  -----              \n",
            " 0   event_time     56064 non-null  datetime64[ns, UTC]\n",
            " 1   event_type     56064 non-null  object             \n",
            " 2   product_id     56064 non-null  int64              \n",
            " 3   category_id    56064 non-null  int64              \n",
            " 4   category_code  56064 non-null  object             \n",
            " 5   brand          44721 non-null  object             \n",
            " 6   price          56064 non-null  float64            \n",
            " 7   user_id        56064 non-null  int64              \n",
            " 8   user_session   56064 non-null  object             \n",
            "dtypes: datetime64[ns, UTC](1), float64(1), int64(3), object(4)\n",
            "memory usage: 3.8+ MB\n"
          ]
        }
      ]
    },
    {
      "cell_type": "code",
      "source": [
        "df_mar_2020.info()"
      ],
      "metadata": {
        "colab": {
          "base_uri": "https://localhost:8080/"
        },
        "id": "oBV7akNhw1xu",
        "outputId": "0129db39-398c-4478-ffb2-ae25e72e10f4"
      },
      "execution_count": 9,
      "outputs": [
        {
          "output_type": "stream",
          "name": "stdout",
          "text": [
            "<class 'pandas.core.frame.DataFrame'>\n",
            "RangeIndex: 56132 entries, 0 to 56131\n",
            "Data columns (total 9 columns):\n",
            " #   Column         Non-Null Count  Dtype              \n",
            "---  ------         --------------  -----              \n",
            " 0   event_time     56132 non-null  datetime64[ns, UTC]\n",
            " 1   event_type     56132 non-null  object             \n",
            " 2   product_id     56132 non-null  int64              \n",
            " 3   category_id    56132 non-null  int64              \n",
            " 4   category_code  56132 non-null  object             \n",
            " 5   brand          45152 non-null  object             \n",
            " 6   price          56132 non-null  float64            \n",
            " 7   user_id        56132 non-null  int64              \n",
            " 8   user_session   56132 non-null  object             \n",
            "dtypes: datetime64[ns, UTC](1), float64(1), int64(3), object(4)\n",
            "memory usage: 3.9+ MB\n"
          ]
        }
      ]
    },
    {
      "cell_type": "code",
      "source": [
        "df_apr_2020.info()"
      ],
      "metadata": {
        "colab": {
          "base_uri": "https://localhost:8080/"
        },
        "id": "R5z-Ax8fwysB",
        "outputId": "79e042e9-36df-4212-f28a-cab84eb19b47"
      },
      "execution_count": 10,
      "outputs": [
        {
          "output_type": "stream",
          "name": "stdout",
          "text": [
            "<class 'pandas.core.frame.DataFrame'>\n",
            "RangeIndex: 55977 entries, 0 to 55976\n",
            "Data columns (total 9 columns):\n",
            " #   Column         Non-Null Count  Dtype              \n",
            "---  ------         --------------  -----              \n",
            " 0   event_time     55977 non-null  datetime64[ns, UTC]\n",
            " 1   event_type     55977 non-null  object             \n",
            " 2   product_id     55977 non-null  int64              \n",
            " 3   category_id    55977 non-null  int64              \n",
            " 4   category_code  55977 non-null  object             \n",
            " 5   brand          41598 non-null  object             \n",
            " 6   price          55977 non-null  float64            \n",
            " 7   user_id        55977 non-null  int64              \n",
            " 8   user_session   55977 non-null  object             \n",
            "dtypes: datetime64[ns, UTC](1), float64(1), int64(3), object(4)\n",
            "memory usage: 3.8+ MB\n"
          ]
        }
      ]
    },
    {
      "cell_type": "code",
      "source": [
        "#Listando dfs para conseguir trabalhar melhor\n",
        "#Criação de uma lista com os dataframes.\n",
        "dfs = [df_dec_2019, df_nov_2019, df_out_2019, df_jan_2020, df_feb_2020, df_mar_2020]"
      ],
      "metadata": {
        "id": "WtSPBMJpxAgD"
      },
      "execution_count": 11,
      "outputs": []
    },
    {
      "cell_type": "code",
      "source": [
        "# Agrupando os dfs em um df único\n",
        "df= pd.concat(dfs, ignore_index=True)"
      ],
      "metadata": {
        "id": "p_nNH9boxeX0"
      },
      "execution_count": 12,
      "outputs": []
    },
    {
      "cell_type": "code",
      "source": [
        "# Amostra do conjunto de dados\n",
        "df.head()"
      ],
      "metadata": {
        "colab": {
          "base_uri": "https://localhost:8080/",
          "height": 293
        },
        "id": "Hb7nTjOaxiEs",
        "outputId": "de8d0567-ae57-4670-b929-110d5945f8a5"
      },
      "execution_count": 13,
      "outputs": [
        {
          "output_type": "execute_result",
          "data": {
            "text/plain": [
              "                 event_time event_type  product_id          category_id  \\\n",
              "0 2019-12-25 08:41:42+00:00       cart    12301370  2053013563743666944   \n",
              "1 2019-12-02 10:28:05+00:00       view    12300394  2053013563743666944   \n",
              "2 2019-12-02 13:09:11+00:00       view   100020964  2053013559138320896   \n",
              "3 2019-12-17 05:32:16+00:00       view   100019405  2232732081702567936   \n",
              "4 2019-12-27 19:04:13+00:00       view    12300181  2053013563743666944   \n",
              "\n",
              "               category_code   brand   price    user_id  \\\n",
              "0    appliances.kitchen.hood  metabo  142.20  585747122   \n",
              "1    appliances.kitchen.hood    None   46.82  570436099   \n",
              "2           apparel.trousers   scott   48.65  553908852   \n",
              "3  furniture.bathroom.toilet    ikea  186.95  513185233   \n",
              "4    appliances.kitchen.hood  dewalt  428.12  521051828   \n",
              "\n",
              "                           user_session  \n",
              "0  444cbbc1-9862-4f5d-be3c-ce075dd3fd6c  \n",
              "1  a93b9ac4-5493-465f-8e58-1b3c995124c6  \n",
              "2  9b278a7f-bc1c-449b-aaa5-9c4bca6b078a  \n",
              "3  531a8bfb-7245-4d70-a594-c2545754019a  \n",
              "4  98f59c71-90b7-415c-a802-77ff196961cc  "
            ],
            "text/html": [
              "\n",
              "  <div id=\"df-74fbc045-64f7-4ba6-b012-4a041c2438da\" class=\"colab-df-container\">\n",
              "    <div>\n",
              "<style scoped>\n",
              "    .dataframe tbody tr th:only-of-type {\n",
              "        vertical-align: middle;\n",
              "    }\n",
              "\n",
              "    .dataframe tbody tr th {\n",
              "        vertical-align: top;\n",
              "    }\n",
              "\n",
              "    .dataframe thead th {\n",
              "        text-align: right;\n",
              "    }\n",
              "</style>\n",
              "<table border=\"1\" class=\"dataframe\">\n",
              "  <thead>\n",
              "    <tr style=\"text-align: right;\">\n",
              "      <th></th>\n",
              "      <th>event_time</th>\n",
              "      <th>event_type</th>\n",
              "      <th>product_id</th>\n",
              "      <th>category_id</th>\n",
              "      <th>category_code</th>\n",
              "      <th>brand</th>\n",
              "      <th>price</th>\n",
              "      <th>user_id</th>\n",
              "      <th>user_session</th>\n",
              "    </tr>\n",
              "  </thead>\n",
              "  <tbody>\n",
              "    <tr>\n",
              "      <th>0</th>\n",
              "      <td>2019-12-25 08:41:42+00:00</td>\n",
              "      <td>cart</td>\n",
              "      <td>12301370</td>\n",
              "      <td>2053013563743666944</td>\n",
              "      <td>appliances.kitchen.hood</td>\n",
              "      <td>metabo</td>\n",
              "      <td>142.20</td>\n",
              "      <td>585747122</td>\n",
              "      <td>444cbbc1-9862-4f5d-be3c-ce075dd3fd6c</td>\n",
              "    </tr>\n",
              "    <tr>\n",
              "      <th>1</th>\n",
              "      <td>2019-12-02 10:28:05+00:00</td>\n",
              "      <td>view</td>\n",
              "      <td>12300394</td>\n",
              "      <td>2053013563743666944</td>\n",
              "      <td>appliances.kitchen.hood</td>\n",
              "      <td>None</td>\n",
              "      <td>46.82</td>\n",
              "      <td>570436099</td>\n",
              "      <td>a93b9ac4-5493-465f-8e58-1b3c995124c6</td>\n",
              "    </tr>\n",
              "    <tr>\n",
              "      <th>2</th>\n",
              "      <td>2019-12-02 13:09:11+00:00</td>\n",
              "      <td>view</td>\n",
              "      <td>100020964</td>\n",
              "      <td>2053013559138320896</td>\n",
              "      <td>apparel.trousers</td>\n",
              "      <td>scott</td>\n",
              "      <td>48.65</td>\n",
              "      <td>553908852</td>\n",
              "      <td>9b278a7f-bc1c-449b-aaa5-9c4bca6b078a</td>\n",
              "    </tr>\n",
              "    <tr>\n",
              "      <th>3</th>\n",
              "      <td>2019-12-17 05:32:16+00:00</td>\n",
              "      <td>view</td>\n",
              "      <td>100019405</td>\n",
              "      <td>2232732081702567936</td>\n",
              "      <td>furniture.bathroom.toilet</td>\n",
              "      <td>ikea</td>\n",
              "      <td>186.95</td>\n",
              "      <td>513185233</td>\n",
              "      <td>531a8bfb-7245-4d70-a594-c2545754019a</td>\n",
              "    </tr>\n",
              "    <tr>\n",
              "      <th>4</th>\n",
              "      <td>2019-12-27 19:04:13+00:00</td>\n",
              "      <td>view</td>\n",
              "      <td>12300181</td>\n",
              "      <td>2053013563743666944</td>\n",
              "      <td>appliances.kitchen.hood</td>\n",
              "      <td>dewalt</td>\n",
              "      <td>428.12</td>\n",
              "      <td>521051828</td>\n",
              "      <td>98f59c71-90b7-415c-a802-77ff196961cc</td>\n",
              "    </tr>\n",
              "  </tbody>\n",
              "</table>\n",
              "</div>\n",
              "    <div class=\"colab-df-buttons\">\n",
              "\n",
              "  <div class=\"colab-df-container\">\n",
              "    <button class=\"colab-df-convert\" onclick=\"convertToInteractive('df-74fbc045-64f7-4ba6-b012-4a041c2438da')\"\n",
              "            title=\"Convert this dataframe to an interactive table.\"\n",
              "            style=\"display:none;\">\n",
              "\n",
              "  <svg xmlns=\"http://www.w3.org/2000/svg\" height=\"24px\" viewBox=\"0 -960 960 960\">\n",
              "    <path d=\"M120-120v-720h720v720H120Zm60-500h600v-160H180v160Zm220 220h160v-160H400v160Zm0 220h160v-160H400v160ZM180-400h160v-160H180v160Zm440 0h160v-160H620v160ZM180-180h160v-160H180v160Zm440 0h160v-160H620v160Z\"/>\n",
              "  </svg>\n",
              "    </button>\n",
              "\n",
              "  <style>\n",
              "    .colab-df-container {\n",
              "      display:flex;\n",
              "      gap: 12px;\n",
              "    }\n",
              "\n",
              "    .colab-df-convert {\n",
              "      background-color: #E8F0FE;\n",
              "      border: none;\n",
              "      border-radius: 50%;\n",
              "      cursor: pointer;\n",
              "      display: none;\n",
              "      fill: #1967D2;\n",
              "      height: 32px;\n",
              "      padding: 0 0 0 0;\n",
              "      width: 32px;\n",
              "    }\n",
              "\n",
              "    .colab-df-convert:hover {\n",
              "      background-color: #E2EBFA;\n",
              "      box-shadow: 0px 1px 2px rgba(60, 64, 67, 0.3), 0px 1px 3px 1px rgba(60, 64, 67, 0.15);\n",
              "      fill: #174EA6;\n",
              "    }\n",
              "\n",
              "    .colab-df-buttons div {\n",
              "      margin-bottom: 4px;\n",
              "    }\n",
              "\n",
              "    [theme=dark] .colab-df-convert {\n",
              "      background-color: #3B4455;\n",
              "      fill: #D2E3FC;\n",
              "    }\n",
              "\n",
              "    [theme=dark] .colab-df-convert:hover {\n",
              "      background-color: #434B5C;\n",
              "      box-shadow: 0px 1px 3px 1px rgba(0, 0, 0, 0.15);\n",
              "      filter: drop-shadow(0px 1px 2px rgba(0, 0, 0, 0.3));\n",
              "      fill: #FFFFFF;\n",
              "    }\n",
              "  </style>\n",
              "\n",
              "    <script>\n",
              "      const buttonEl =\n",
              "        document.querySelector('#df-74fbc045-64f7-4ba6-b012-4a041c2438da button.colab-df-convert');\n",
              "      buttonEl.style.display =\n",
              "        google.colab.kernel.accessAllowed ? 'block' : 'none';\n",
              "\n",
              "      async function convertToInteractive(key) {\n",
              "        const element = document.querySelector('#df-74fbc045-64f7-4ba6-b012-4a041c2438da');\n",
              "        const dataTable =\n",
              "          await google.colab.kernel.invokeFunction('convertToInteractive',\n",
              "                                                    [key], {});\n",
              "        if (!dataTable) return;\n",
              "\n",
              "        const docLinkHtml = 'Like what you see? Visit the ' +\n",
              "          '<a target=\"_blank\" href=https://colab.research.google.com/notebooks/data_table.ipynb>data table notebook</a>'\n",
              "          + ' to learn more about interactive tables.';\n",
              "        element.innerHTML = '';\n",
              "        dataTable['output_type'] = 'display_data';\n",
              "        await google.colab.output.renderOutput(dataTable, element);\n",
              "        const docLink = document.createElement('div');\n",
              "        docLink.innerHTML = docLinkHtml;\n",
              "        element.appendChild(docLink);\n",
              "      }\n",
              "    </script>\n",
              "  </div>\n",
              "\n",
              "\n",
              "<div id=\"df-f83db2dd-f297-45ac-84f4-c20a7b6f818c\">\n",
              "  <button class=\"colab-df-quickchart\" onclick=\"quickchart('df-f83db2dd-f297-45ac-84f4-c20a7b6f818c')\"\n",
              "            title=\"Suggest charts\"\n",
              "            style=\"display:none;\">\n",
              "\n",
              "<svg xmlns=\"http://www.w3.org/2000/svg\" height=\"24px\"viewBox=\"0 0 24 24\"\n",
              "     width=\"24px\">\n",
              "    <g>\n",
              "        <path d=\"M19 3H5c-1.1 0-2 .9-2 2v14c0 1.1.9 2 2 2h14c1.1 0 2-.9 2-2V5c0-1.1-.9-2-2-2zM9 17H7v-7h2v7zm4 0h-2V7h2v10zm4 0h-2v-4h2v4z\"/>\n",
              "    </g>\n",
              "</svg>\n",
              "  </button>\n",
              "\n",
              "<style>\n",
              "  .colab-df-quickchart {\n",
              "      --bg-color: #E8F0FE;\n",
              "      --fill-color: #1967D2;\n",
              "      --hover-bg-color: #E2EBFA;\n",
              "      --hover-fill-color: #174EA6;\n",
              "      --disabled-fill-color: #AAA;\n",
              "      --disabled-bg-color: #DDD;\n",
              "  }\n",
              "\n",
              "  [theme=dark] .colab-df-quickchart {\n",
              "      --bg-color: #3B4455;\n",
              "      --fill-color: #D2E3FC;\n",
              "      --hover-bg-color: #434B5C;\n",
              "      --hover-fill-color: #FFFFFF;\n",
              "      --disabled-bg-color: #3B4455;\n",
              "      --disabled-fill-color: #666;\n",
              "  }\n",
              "\n",
              "  .colab-df-quickchart {\n",
              "    background-color: var(--bg-color);\n",
              "    border: none;\n",
              "    border-radius: 50%;\n",
              "    cursor: pointer;\n",
              "    display: none;\n",
              "    fill: var(--fill-color);\n",
              "    height: 32px;\n",
              "    padding: 0;\n",
              "    width: 32px;\n",
              "  }\n",
              "\n",
              "  .colab-df-quickchart:hover {\n",
              "    background-color: var(--hover-bg-color);\n",
              "    box-shadow: 0 1px 2px rgba(60, 64, 67, 0.3), 0 1px 3px 1px rgba(60, 64, 67, 0.15);\n",
              "    fill: var(--button-hover-fill-color);\n",
              "  }\n",
              "\n",
              "  .colab-df-quickchart-complete:disabled,\n",
              "  .colab-df-quickchart-complete:disabled:hover {\n",
              "    background-color: var(--disabled-bg-color);\n",
              "    fill: var(--disabled-fill-color);\n",
              "    box-shadow: none;\n",
              "  }\n",
              "\n",
              "  .colab-df-spinner {\n",
              "    border: 2px solid var(--fill-color);\n",
              "    border-color: transparent;\n",
              "    border-bottom-color: var(--fill-color);\n",
              "    animation:\n",
              "      spin 1s steps(1) infinite;\n",
              "  }\n",
              "\n",
              "  @keyframes spin {\n",
              "    0% {\n",
              "      border-color: transparent;\n",
              "      border-bottom-color: var(--fill-color);\n",
              "      border-left-color: var(--fill-color);\n",
              "    }\n",
              "    20% {\n",
              "      border-color: transparent;\n",
              "      border-left-color: var(--fill-color);\n",
              "      border-top-color: var(--fill-color);\n",
              "    }\n",
              "    30% {\n",
              "      border-color: transparent;\n",
              "      border-left-color: var(--fill-color);\n",
              "      border-top-color: var(--fill-color);\n",
              "      border-right-color: var(--fill-color);\n",
              "    }\n",
              "    40% {\n",
              "      border-color: transparent;\n",
              "      border-right-color: var(--fill-color);\n",
              "      border-top-color: var(--fill-color);\n",
              "    }\n",
              "    60% {\n",
              "      border-color: transparent;\n",
              "      border-right-color: var(--fill-color);\n",
              "    }\n",
              "    80% {\n",
              "      border-color: transparent;\n",
              "      border-right-color: var(--fill-color);\n",
              "      border-bottom-color: var(--fill-color);\n",
              "    }\n",
              "    90% {\n",
              "      border-color: transparent;\n",
              "      border-bottom-color: var(--fill-color);\n",
              "    }\n",
              "  }\n",
              "</style>\n",
              "\n",
              "  <script>\n",
              "    async function quickchart(key) {\n",
              "      const quickchartButtonEl =\n",
              "        document.querySelector('#' + key + ' button');\n",
              "      quickchartButtonEl.disabled = true;  // To prevent multiple clicks.\n",
              "      quickchartButtonEl.classList.add('colab-df-spinner');\n",
              "      try {\n",
              "        const charts = await google.colab.kernel.invokeFunction(\n",
              "            'suggestCharts', [key], {});\n",
              "      } catch (error) {\n",
              "        console.error('Error during call to suggestCharts:', error);\n",
              "      }\n",
              "      quickchartButtonEl.classList.remove('colab-df-spinner');\n",
              "      quickchartButtonEl.classList.add('colab-df-quickchart-complete');\n",
              "    }\n",
              "    (() => {\n",
              "      let quickchartButtonEl =\n",
              "        document.querySelector('#df-f83db2dd-f297-45ac-84f4-c20a7b6f818c button');\n",
              "      quickchartButtonEl.style.display =\n",
              "        google.colab.kernel.accessAllowed ? 'block' : 'none';\n",
              "    })();\n",
              "  </script>\n",
              "</div>\n",
              "\n",
              "    </div>\n",
              "  </div>\n"
            ],
            "application/vnd.google.colaboratory.intrinsic+json": {
              "type": "dataframe",
              "variable_name": "df"
            }
          },
          "metadata": {},
          "execution_count": 13
        }
      ]
    },
    {
      "cell_type": "code",
      "source": [
        "# Contando o número de linhas\n",
        "df.count()"
      ],
      "metadata": {
        "colab": {
          "base_uri": "https://localhost:8080/"
        },
        "id": "bM2Ns0NSebjf",
        "outputId": "56c1bc15-537a-4c5f-e23d-d196b1822e99"
      },
      "execution_count": 14,
      "outputs": [
        {
          "output_type": "execute_result",
          "data": {
            "text/plain": [
              "event_time       344203\n",
              "event_type       344203\n",
              "product_id       344203\n",
              "category_id      344203\n",
              "category_code    284133\n",
              "brand            279165\n",
              "price            344203\n",
              "user_id          344203\n",
              "user_session     344202\n",
              "dtype: int64"
            ]
          },
          "metadata": {},
          "execution_count": 14
        }
      ]
    },
    {
      "cell_type": "code",
      "source": [
        "# Encontrando e identificando as linhas duplicadas\n",
        "duplicated_rows = df[df.duplicated(keep=False)]\n",
        "\n",
        "print(duplicated_rows)"
      ],
      "metadata": {
        "colab": {
          "base_uri": "https://localhost:8080/"
        },
        "id": "pHuy5dRJyvg5",
        "outputId": "b1f4ca0a-2b16-4524-8d25-3e3a1a33a784"
      },
      "execution_count": 15,
      "outputs": [
        {
          "output_type": "stream",
          "name": "stdout",
          "text": [
            "                      event_time event_type  product_id          category_id  \\\n",
            "195385 2020-01-08 12:09:57+00:00       cart   100004057  2232732110089618176   \n",
            "218164 2020-01-31 07:02:30+00:00       cart    11600027  2053013554834964736   \n",
            "219838 2020-01-31 07:02:30+00:00       cart    11600027  2053013554834964736   \n",
            "221890 2020-01-08 12:09:57+00:00       cart   100004057  2232732110089618176   \n",
            "247994 2020-02-11 12:06:29+00:00       view   100065556  2053013562393101056   \n",
            "251374 2020-02-01 14:28:55+00:00       cart     4501506  2232732102749585920   \n",
            "254306 2020-02-01 14:28:55+00:00       cart     4501506  2232732102749585920   \n",
            "268079 2020-02-11 09:09:04+00:00       view     5600391  2232732099025043968   \n",
            "273600 2020-02-11 09:09:04+00:00       view     5600391  2232732099025043968   \n",
            "277678 2020-02-15 09:02:35+00:00   purchase     3801134  2053013557477376512   \n",
            "277688 2020-02-11 12:06:29+00:00       view   100065556  2053013562393101056   \n",
            "285800 2020-02-15 09:02:35+00:00   purchase     3801134  2053013557477376512   \n",
            "289613 2020-03-06 02:44:23+00:00       cart     6200914  2232732091961835776   \n",
            "300170 2020-03-27 05:38:59+00:00       cart    12300925  2053013563743666944   \n",
            "315250 2020-03-27 05:38:59+00:00       cart    12300925  2053013563743666944   \n",
            "321405 2020-03-06 05:57:05+00:00       cart    21700004  2232732111012365056   \n",
            "323551 2020-03-06 02:44:23+00:00       cart     6200914  2232732091961835776   \n",
            "324418 2020-03-06 05:57:05+00:00       cart    21700004  2232732111012365056   \n",
            "\n",
            "                            category_code       brand   price    user_id  \\\n",
            "195385                   apparel.trousers        nika  102.94  598306430   \n",
            "218164          appliances.kitchen.kettle       delux   18.47  512897813   \n",
            "219838          appliances.kitchen.kettle       delux   18.47  512897813   \n",
            "221890                   apparel.trousers        nika  102.94  598306430   \n",
            "247994                     apparel.jumper     nordway   11.74  611919576   \n",
            "251374             appliances.kitchen.hob  electrolux  324.25  440456283   \n",
            "254306             appliances.kitchen.hob  electrolux  324.25  440456283   \n",
            "268079            apparel.shoes.moccasins       braun  202.04  543769139   \n",
            "273600            apparel.shoes.moccasins       braun  202.04  543769139   \n",
            "277678            furniture.bathroom.bath    elenberg   16.71  566792513   \n",
            "277688                     apparel.jumper     nordway   11.74  611919576   \n",
            "285800            furniture.bathroom.bath    elenberg   16.71  566792513   \n",
            "289613  appliances.environment.air_heater        None   25.03  565951931   \n",
            "300170            appliances.kitchen.hood      alteco   28.18  544651950   \n",
            "315250            appliances.kitchen.hood      alteco   28.18  544651950   \n",
            "321405      country_yard.furniture.hammok        sony   25.02  597971354   \n",
            "323551  appliances.environment.air_heater        None   25.03  565951931   \n",
            "324418      country_yard.furniture.hammok        sony   25.02  597971354   \n",
            "\n",
            "                                user_session  \n",
            "195385  d7d03852-bd06-4edc-91a2-3081bf0024c5  \n",
            "218164  20d7d208-3223-4640-b343-bbc36da97933  \n",
            "219838  20d7d208-3223-4640-b343-bbc36da97933  \n",
            "221890  d7d03852-bd06-4edc-91a2-3081bf0024c5  \n",
            "247994  f501a047-c9ef-47cc-8bf0-300da3639446  \n",
            "251374  2351b074-ecfc-4afa-889c-4bba2f75c7d7  \n",
            "254306  2351b074-ecfc-4afa-889c-4bba2f75c7d7  \n",
            "268079  5afd9eb7-af50-4dc3-8ee3-ebee0bc6e305  \n",
            "273600  5afd9eb7-af50-4dc3-8ee3-ebee0bc6e305  \n",
            "277678  8a899aa9-2cda-4d40-94bd-5332221947be  \n",
            "277688  f501a047-c9ef-47cc-8bf0-300da3639446  \n",
            "285800  8a899aa9-2cda-4d40-94bd-5332221947be  \n",
            "289613  02c27631-a358-4b2a-8d9e-727916ea16a1  \n",
            "300170  89c1e564-ab04-4db5-a152-b0d364cd5320  \n",
            "315250  89c1e564-ab04-4db5-a152-b0d364cd5320  \n",
            "321405  f8d2661b-7ab9-4fcb-b2ba-d61c8be74cd9  \n",
            "323551  02c27631-a358-4b2a-8d9e-727916ea16a1  \n",
            "324418  f8d2661b-7ab9-4fcb-b2ba-d61c8be74cd9  \n"
          ]
        }
      ]
    },
    {
      "cell_type": "code",
      "source": [
        "# Verificando e contando a existência de linhas duplicadas\n",
        "duplicadas = df.duplicated()\n",
        "\n",
        "num_duplicadas = duplicadas.sum()\n",
        "\n",
        "# Exibindo o número de linhas duplicadas\n",
        "print(f\"Existem {num_duplicadas} linhas duplicadas no DataFrame.\")"
      ],
      "metadata": {
        "colab": {
          "base_uri": "https://localhost:8080/"
        },
        "id": "nEIHKjxyy4SY",
        "outputId": "5d40d066-5b23-49cc-b13e-7c0ea12e3a99"
      },
      "execution_count": 17,
      "outputs": [
        {
          "output_type": "stream",
          "name": "stdout",
          "text": [
            "Existem 9 linhas duplicadas no DataFrame.\n"
          ]
        }
      ]
    },
    {
      "cell_type": "code",
      "source": [
        "# Removendo as linhas duplicadas\n",
        "df_tratado = df.drop_duplicates()\n",
        "\n",
        "# Exibindo a quantidade de linhas após a exclusão dos duplicados.\n",
        "print(f\"O DataFrame agora tem {df_tratado.shape[0]} linhas após remover duplicatas.\")"
      ],
      "metadata": {
        "colab": {
          "base_uri": "https://localhost:8080/"
        },
        "id": "B1eLFrxJzDGk",
        "outputId": "166b017c-d40d-4adf-cc9a-cc86d4a61ffa"
      },
      "execution_count": 18,
      "outputs": [
        {
          "output_type": "stream",
          "name": "stdout",
          "text": [
            "O DataFrame agora tem 344194 linhas após remover duplicatas.\n"
          ]
        }
      ]
    },
    {
      "cell_type": "code",
      "source": [
        "#Verificando o quantitativo de nulos nas colunas.\n",
        "df_tratado.isnull().sum()"
      ],
      "metadata": {
        "colab": {
          "base_uri": "https://localhost:8080/"
        },
        "id": "r6AXaHEDzNIe",
        "outputId": "e86ab66f-f02b-44b4-942d-ba256265f5e8"
      },
      "execution_count": 19,
      "outputs": [
        {
          "output_type": "execute_result",
          "data": {
            "text/plain": [
              "event_time           0\n",
              "event_type           0\n",
              "product_id           0\n",
              "category_id          0\n",
              "category_code    60070\n",
              "brand            65037\n",
              "price                0\n",
              "user_id              0\n",
              "user_session         1\n",
              "dtype: int64"
            ]
          },
          "metadata": {},
          "execution_count": 19
        }
      ]
    },
    {
      "cell_type": "code",
      "source": [
        "#Tratando os valores nulos com o preenchimento da informação \"unknown\"\n",
        "df_tratado.fillna('unknown', inplace=True)"
      ],
      "metadata": {
        "colab": {
          "base_uri": "https://localhost:8080/"
        },
        "id": "ncWxzFvnzVHt",
        "outputId": "2ff7b9bd-01c8-4dc8-dfb2-bbc5f737a39d"
      },
      "execution_count": 20,
      "outputs": [
        {
          "output_type": "stream",
          "name": "stderr",
          "text": [
            "<ipython-input-20-52802683563b>:2: SettingWithCopyWarning: \n",
            "A value is trying to be set on a copy of a slice from a DataFrame\n",
            "\n",
            "See the caveats in the documentation: https://pandas.pydata.org/pandas-docs/stable/user_guide/indexing.html#returning-a-view-versus-a-copy\n",
            "  df_tratado.fillna('unknown', inplace=True)\n"
          ]
        }
      ]
    },
    {
      "cell_type": "code",
      "source": [
        "#Verificando se o preenchimento dos campos nulos\n",
        "df_tratado.isnull().sum()"
      ],
      "metadata": {
        "colab": {
          "base_uri": "https://localhost:8080/"
        },
        "id": "jbWoeBdPzacz",
        "outputId": "eee3e7ba-ec91-4026-f040-ae80e9baaf64"
      },
      "execution_count": 21,
      "outputs": [
        {
          "output_type": "execute_result",
          "data": {
            "text/plain": [
              "event_time       0\n",
              "event_type       0\n",
              "product_id       0\n",
              "category_id      0\n",
              "category_code    0\n",
              "brand            0\n",
              "price            0\n",
              "user_id          0\n",
              "user_session     0\n",
              "dtype: int64"
            ]
          },
          "metadata": {},
          "execution_count": 21
        }
      ]
    },
    {
      "cell_type": "code",
      "source": [
        "## Padronizando Event_time e exibindo os primeiros valores únicos da coluna 'event_time'\n",
        "print(df['event_time'].unique()[:5])"
      ],
      "metadata": {
        "colab": {
          "base_uri": "https://localhost:8080/"
        },
        "id": "vj1o2taaiw3Q",
        "outputId": "b4c41ddd-22d3-436a-8886-3a06691c2233"
      },
      "execution_count": 22,
      "outputs": [
        {
          "output_type": "stream",
          "name": "stdout",
          "text": [
            "<DatetimeArray>\n",
            "['2019-12-25 08:41:42+00:00', '2019-12-02 10:28:05+00:00',\n",
            " '2019-12-02 13:09:11+00:00', '2019-12-17 05:32:16+00:00',\n",
            " '2019-12-27 19:04:13+00:00']\n",
            "Length: 5, dtype: datetime64[ns, UTC]\n"
          ]
        }
      ]
    },
    {
      "cell_type": "code",
      "source": [
        "# Conversão direta para datetime, reconhecendo 'UTC'\n",
        "df['event_time'] = pd.to_datetime(df['event_time'], utc=True, errors='coerce')\n",
        "\n",
        "print(df[['event_time']].head())\n",
        "\n",
        "# Processamento após a conversão\n",
        "df['event_hour'] = df['event_time'].dt.hour\n",
        "df['event_minute'] = df['event_time'].dt.minute\n",
        "df['event_second'] = df['event_time'].dt.second\n",
        "df['event_date'] = df['event_time'].dt.date\n",
        "\n",
        "# Converter o event_time para uma string no formato HH:MM:SS\n",
        "df['event_time_str'] = df['event_time'].dt.strftime('%H:%M:%S')\n",
        "\n",
        "# Mantendo o fuso horário na conversão\n",
        "df['event_time'] = df['event_time'].dt.tz_localize(None)"
      ],
      "metadata": {
        "colab": {
          "base_uri": "https://localhost:8080/"
        },
        "id": "oyuis3zKjEyp",
        "outputId": "9135a9f0-a233-40a3-daa0-98183587ba10"
      },
      "execution_count": 23,
      "outputs": [
        {
          "output_type": "stream",
          "name": "stdout",
          "text": [
            "                 event_time\n",
            "0 2019-12-25 08:41:42+00:00\n",
            "1 2019-12-02 10:28:05+00:00\n",
            "2 2019-12-02 13:09:11+00:00\n",
            "3 2019-12-17 05:32:16+00:00\n",
            "4 2019-12-27 19:04:13+00:00\n"
          ]
        }
      ]
    },
    {
      "cell_type": "markdown",
      "source": [
        "# **Dicionário**\n",
        "\n",
        "**Event types**\n",
        "\n",
        "*view* - a user viewed a product\n",
        "\n",
        "*cart* - a user added a product to shopping cart\n",
        "\n",
        "*remove_from_cart* - a user removed a product from shopping cart\n",
        "\n",
        "*purchase* - a user purchased a product\n",
        "\n",
        "**Informações gerais**\n",
        "\n",
        "event_time -\tTime when event happened at (in UTC).\n",
        "\n",
        "event_type - Only one kind of event: purchase.\n",
        "\n",
        "product_id - ID of a product\n",
        "\n",
        "category_id -\tProduct's category ID\n",
        "\n",
        "category_code - Product's category taxonomy (code name) if it was possible to make it. Usually present for meaningful categories and skipped for different kinds of accessories.\n",
        "\n",
        "brand -\tDowncased string of brand name. Can be missed.\n",
        "\n",
        "price -\tFloat price of a product. Present.\n",
        "\n",
        "user_id\tPermanent - user ID.\n",
        "\n",
        "user_session -\tTemporary user's session ID. Same for each user's session. Is changed every time user come back to online store from a long pause."
      ],
      "metadata": {
        "id": "DtvQtjZzjiSQ"
      }
    },
    {
      "cell_type": "code",
      "source": [
        "df.head()"
      ],
      "metadata": {
        "colab": {
          "base_uri": "https://localhost:8080/",
          "height": 486
        },
        "id": "q8u4jB1XjsM8",
        "outputId": "11ad6e1c-ad15-4085-fa00-c45c133b148a"
      },
      "execution_count": 24,
      "outputs": [
        {
          "output_type": "execute_result",
          "data": {
            "text/plain": [
              "           event_time event_type  product_id          category_id  \\\n",
              "0 2019-12-25 08:41:42       cart    12301370  2053013563743666944   \n",
              "1 2019-12-02 10:28:05       view    12300394  2053013563743666944   \n",
              "2 2019-12-02 13:09:11       view   100020964  2053013559138320896   \n",
              "3 2019-12-17 05:32:16       view   100019405  2232732081702567936   \n",
              "4 2019-12-27 19:04:13       view    12300181  2053013563743666944   \n",
              "\n",
              "               category_code   brand   price    user_id  \\\n",
              "0    appliances.kitchen.hood  metabo  142.20  585747122   \n",
              "1    appliances.kitchen.hood    None   46.82  570436099   \n",
              "2           apparel.trousers   scott   48.65  553908852   \n",
              "3  furniture.bathroom.toilet    ikea  186.95  513185233   \n",
              "4    appliances.kitchen.hood  dewalt  428.12  521051828   \n",
              "\n",
              "                           user_session  event_hour  event_minute  \\\n",
              "0  444cbbc1-9862-4f5d-be3c-ce075dd3fd6c           8            41   \n",
              "1  a93b9ac4-5493-465f-8e58-1b3c995124c6          10            28   \n",
              "2  9b278a7f-bc1c-449b-aaa5-9c4bca6b078a          13             9   \n",
              "3  531a8bfb-7245-4d70-a594-c2545754019a           5            32   \n",
              "4  98f59c71-90b7-415c-a802-77ff196961cc          19             4   \n",
              "\n",
              "   event_second  event_date event_time_str  \n",
              "0            42  2019-12-25       08:41:42  \n",
              "1             5  2019-12-02       10:28:05  \n",
              "2            11  2019-12-02       13:09:11  \n",
              "3            16  2019-12-17       05:32:16  \n",
              "4            13  2019-12-27       19:04:13  "
            ],
            "text/html": [
              "\n",
              "  <div id=\"df-d0451d84-68f4-447d-ab71-d4671ce5b2cf\" class=\"colab-df-container\">\n",
              "    <div>\n",
              "<style scoped>\n",
              "    .dataframe tbody tr th:only-of-type {\n",
              "        vertical-align: middle;\n",
              "    }\n",
              "\n",
              "    .dataframe tbody tr th {\n",
              "        vertical-align: top;\n",
              "    }\n",
              "\n",
              "    .dataframe thead th {\n",
              "        text-align: right;\n",
              "    }\n",
              "</style>\n",
              "<table border=\"1\" class=\"dataframe\">\n",
              "  <thead>\n",
              "    <tr style=\"text-align: right;\">\n",
              "      <th></th>\n",
              "      <th>event_time</th>\n",
              "      <th>event_type</th>\n",
              "      <th>product_id</th>\n",
              "      <th>category_id</th>\n",
              "      <th>category_code</th>\n",
              "      <th>brand</th>\n",
              "      <th>price</th>\n",
              "      <th>user_id</th>\n",
              "      <th>user_session</th>\n",
              "      <th>event_hour</th>\n",
              "      <th>event_minute</th>\n",
              "      <th>event_second</th>\n",
              "      <th>event_date</th>\n",
              "      <th>event_time_str</th>\n",
              "    </tr>\n",
              "  </thead>\n",
              "  <tbody>\n",
              "    <tr>\n",
              "      <th>0</th>\n",
              "      <td>2019-12-25 08:41:42</td>\n",
              "      <td>cart</td>\n",
              "      <td>12301370</td>\n",
              "      <td>2053013563743666944</td>\n",
              "      <td>appliances.kitchen.hood</td>\n",
              "      <td>metabo</td>\n",
              "      <td>142.20</td>\n",
              "      <td>585747122</td>\n",
              "      <td>444cbbc1-9862-4f5d-be3c-ce075dd3fd6c</td>\n",
              "      <td>8</td>\n",
              "      <td>41</td>\n",
              "      <td>42</td>\n",
              "      <td>2019-12-25</td>\n",
              "      <td>08:41:42</td>\n",
              "    </tr>\n",
              "    <tr>\n",
              "      <th>1</th>\n",
              "      <td>2019-12-02 10:28:05</td>\n",
              "      <td>view</td>\n",
              "      <td>12300394</td>\n",
              "      <td>2053013563743666944</td>\n",
              "      <td>appliances.kitchen.hood</td>\n",
              "      <td>None</td>\n",
              "      <td>46.82</td>\n",
              "      <td>570436099</td>\n",
              "      <td>a93b9ac4-5493-465f-8e58-1b3c995124c6</td>\n",
              "      <td>10</td>\n",
              "      <td>28</td>\n",
              "      <td>5</td>\n",
              "      <td>2019-12-02</td>\n",
              "      <td>10:28:05</td>\n",
              "    </tr>\n",
              "    <tr>\n",
              "      <th>2</th>\n",
              "      <td>2019-12-02 13:09:11</td>\n",
              "      <td>view</td>\n",
              "      <td>100020964</td>\n",
              "      <td>2053013559138320896</td>\n",
              "      <td>apparel.trousers</td>\n",
              "      <td>scott</td>\n",
              "      <td>48.65</td>\n",
              "      <td>553908852</td>\n",
              "      <td>9b278a7f-bc1c-449b-aaa5-9c4bca6b078a</td>\n",
              "      <td>13</td>\n",
              "      <td>9</td>\n",
              "      <td>11</td>\n",
              "      <td>2019-12-02</td>\n",
              "      <td>13:09:11</td>\n",
              "    </tr>\n",
              "    <tr>\n",
              "      <th>3</th>\n",
              "      <td>2019-12-17 05:32:16</td>\n",
              "      <td>view</td>\n",
              "      <td>100019405</td>\n",
              "      <td>2232732081702567936</td>\n",
              "      <td>furniture.bathroom.toilet</td>\n",
              "      <td>ikea</td>\n",
              "      <td>186.95</td>\n",
              "      <td>513185233</td>\n",
              "      <td>531a8bfb-7245-4d70-a594-c2545754019a</td>\n",
              "      <td>5</td>\n",
              "      <td>32</td>\n",
              "      <td>16</td>\n",
              "      <td>2019-12-17</td>\n",
              "      <td>05:32:16</td>\n",
              "    </tr>\n",
              "    <tr>\n",
              "      <th>4</th>\n",
              "      <td>2019-12-27 19:04:13</td>\n",
              "      <td>view</td>\n",
              "      <td>12300181</td>\n",
              "      <td>2053013563743666944</td>\n",
              "      <td>appliances.kitchen.hood</td>\n",
              "      <td>dewalt</td>\n",
              "      <td>428.12</td>\n",
              "      <td>521051828</td>\n",
              "      <td>98f59c71-90b7-415c-a802-77ff196961cc</td>\n",
              "      <td>19</td>\n",
              "      <td>4</td>\n",
              "      <td>13</td>\n",
              "      <td>2019-12-27</td>\n",
              "      <td>19:04:13</td>\n",
              "    </tr>\n",
              "  </tbody>\n",
              "</table>\n",
              "</div>\n",
              "    <div class=\"colab-df-buttons\">\n",
              "\n",
              "  <div class=\"colab-df-container\">\n",
              "    <button class=\"colab-df-convert\" onclick=\"convertToInteractive('df-d0451d84-68f4-447d-ab71-d4671ce5b2cf')\"\n",
              "            title=\"Convert this dataframe to an interactive table.\"\n",
              "            style=\"display:none;\">\n",
              "\n",
              "  <svg xmlns=\"http://www.w3.org/2000/svg\" height=\"24px\" viewBox=\"0 -960 960 960\">\n",
              "    <path d=\"M120-120v-720h720v720H120Zm60-500h600v-160H180v160Zm220 220h160v-160H400v160Zm0 220h160v-160H400v160ZM180-400h160v-160H180v160Zm440 0h160v-160H620v160ZM180-180h160v-160H180v160Zm440 0h160v-160H620v160Z\"/>\n",
              "  </svg>\n",
              "    </button>\n",
              "\n",
              "  <style>\n",
              "    .colab-df-container {\n",
              "      display:flex;\n",
              "      gap: 12px;\n",
              "    }\n",
              "\n",
              "    .colab-df-convert {\n",
              "      background-color: #E8F0FE;\n",
              "      border: none;\n",
              "      border-radius: 50%;\n",
              "      cursor: pointer;\n",
              "      display: none;\n",
              "      fill: #1967D2;\n",
              "      height: 32px;\n",
              "      padding: 0 0 0 0;\n",
              "      width: 32px;\n",
              "    }\n",
              "\n",
              "    .colab-df-convert:hover {\n",
              "      background-color: #E2EBFA;\n",
              "      box-shadow: 0px 1px 2px rgba(60, 64, 67, 0.3), 0px 1px 3px 1px rgba(60, 64, 67, 0.15);\n",
              "      fill: #174EA6;\n",
              "    }\n",
              "\n",
              "    .colab-df-buttons div {\n",
              "      margin-bottom: 4px;\n",
              "    }\n",
              "\n",
              "    [theme=dark] .colab-df-convert {\n",
              "      background-color: #3B4455;\n",
              "      fill: #D2E3FC;\n",
              "    }\n",
              "\n",
              "    [theme=dark] .colab-df-convert:hover {\n",
              "      background-color: #434B5C;\n",
              "      box-shadow: 0px 1px 3px 1px rgba(0, 0, 0, 0.15);\n",
              "      filter: drop-shadow(0px 1px 2px rgba(0, 0, 0, 0.3));\n",
              "      fill: #FFFFFF;\n",
              "    }\n",
              "  </style>\n",
              "\n",
              "    <script>\n",
              "      const buttonEl =\n",
              "        document.querySelector('#df-d0451d84-68f4-447d-ab71-d4671ce5b2cf button.colab-df-convert');\n",
              "      buttonEl.style.display =\n",
              "        google.colab.kernel.accessAllowed ? 'block' : 'none';\n",
              "\n",
              "      async function convertToInteractive(key) {\n",
              "        const element = document.querySelector('#df-d0451d84-68f4-447d-ab71-d4671ce5b2cf');\n",
              "        const dataTable =\n",
              "          await google.colab.kernel.invokeFunction('convertToInteractive',\n",
              "                                                    [key], {});\n",
              "        if (!dataTable) return;\n",
              "\n",
              "        const docLinkHtml = 'Like what you see? Visit the ' +\n",
              "          '<a target=\"_blank\" href=https://colab.research.google.com/notebooks/data_table.ipynb>data table notebook</a>'\n",
              "          + ' to learn more about interactive tables.';\n",
              "        element.innerHTML = '';\n",
              "        dataTable['output_type'] = 'display_data';\n",
              "        await google.colab.output.renderOutput(dataTable, element);\n",
              "        const docLink = document.createElement('div');\n",
              "        docLink.innerHTML = docLinkHtml;\n",
              "        element.appendChild(docLink);\n",
              "      }\n",
              "    </script>\n",
              "  </div>\n",
              "\n",
              "\n",
              "<div id=\"df-c5dbe5ee-c92d-4faf-baba-8a715fd7298e\">\n",
              "  <button class=\"colab-df-quickchart\" onclick=\"quickchart('df-c5dbe5ee-c92d-4faf-baba-8a715fd7298e')\"\n",
              "            title=\"Suggest charts\"\n",
              "            style=\"display:none;\">\n",
              "\n",
              "<svg xmlns=\"http://www.w3.org/2000/svg\" height=\"24px\"viewBox=\"0 0 24 24\"\n",
              "     width=\"24px\">\n",
              "    <g>\n",
              "        <path d=\"M19 3H5c-1.1 0-2 .9-2 2v14c0 1.1.9 2 2 2h14c1.1 0 2-.9 2-2V5c0-1.1-.9-2-2-2zM9 17H7v-7h2v7zm4 0h-2V7h2v10zm4 0h-2v-4h2v4z\"/>\n",
              "    </g>\n",
              "</svg>\n",
              "  </button>\n",
              "\n",
              "<style>\n",
              "  .colab-df-quickchart {\n",
              "      --bg-color: #E8F0FE;\n",
              "      --fill-color: #1967D2;\n",
              "      --hover-bg-color: #E2EBFA;\n",
              "      --hover-fill-color: #174EA6;\n",
              "      --disabled-fill-color: #AAA;\n",
              "      --disabled-bg-color: #DDD;\n",
              "  }\n",
              "\n",
              "  [theme=dark] .colab-df-quickchart {\n",
              "      --bg-color: #3B4455;\n",
              "      --fill-color: #D2E3FC;\n",
              "      --hover-bg-color: #434B5C;\n",
              "      --hover-fill-color: #FFFFFF;\n",
              "      --disabled-bg-color: #3B4455;\n",
              "      --disabled-fill-color: #666;\n",
              "  }\n",
              "\n",
              "  .colab-df-quickchart {\n",
              "    background-color: var(--bg-color);\n",
              "    border: none;\n",
              "    border-radius: 50%;\n",
              "    cursor: pointer;\n",
              "    display: none;\n",
              "    fill: var(--fill-color);\n",
              "    height: 32px;\n",
              "    padding: 0;\n",
              "    width: 32px;\n",
              "  }\n",
              "\n",
              "  .colab-df-quickchart:hover {\n",
              "    background-color: var(--hover-bg-color);\n",
              "    box-shadow: 0 1px 2px rgba(60, 64, 67, 0.3), 0 1px 3px 1px rgba(60, 64, 67, 0.15);\n",
              "    fill: var(--button-hover-fill-color);\n",
              "  }\n",
              "\n",
              "  .colab-df-quickchart-complete:disabled,\n",
              "  .colab-df-quickchart-complete:disabled:hover {\n",
              "    background-color: var(--disabled-bg-color);\n",
              "    fill: var(--disabled-fill-color);\n",
              "    box-shadow: none;\n",
              "  }\n",
              "\n",
              "  .colab-df-spinner {\n",
              "    border: 2px solid var(--fill-color);\n",
              "    border-color: transparent;\n",
              "    border-bottom-color: var(--fill-color);\n",
              "    animation:\n",
              "      spin 1s steps(1) infinite;\n",
              "  }\n",
              "\n",
              "  @keyframes spin {\n",
              "    0% {\n",
              "      border-color: transparent;\n",
              "      border-bottom-color: var(--fill-color);\n",
              "      border-left-color: var(--fill-color);\n",
              "    }\n",
              "    20% {\n",
              "      border-color: transparent;\n",
              "      border-left-color: var(--fill-color);\n",
              "      border-top-color: var(--fill-color);\n",
              "    }\n",
              "    30% {\n",
              "      border-color: transparent;\n",
              "      border-left-color: var(--fill-color);\n",
              "      border-top-color: var(--fill-color);\n",
              "      border-right-color: var(--fill-color);\n",
              "    }\n",
              "    40% {\n",
              "      border-color: transparent;\n",
              "      border-right-color: var(--fill-color);\n",
              "      border-top-color: var(--fill-color);\n",
              "    }\n",
              "    60% {\n",
              "      border-color: transparent;\n",
              "      border-right-color: var(--fill-color);\n",
              "    }\n",
              "    80% {\n",
              "      border-color: transparent;\n",
              "      border-right-color: var(--fill-color);\n",
              "      border-bottom-color: var(--fill-color);\n",
              "    }\n",
              "    90% {\n",
              "      border-color: transparent;\n",
              "      border-bottom-color: var(--fill-color);\n",
              "    }\n",
              "  }\n",
              "</style>\n",
              "\n",
              "  <script>\n",
              "    async function quickchart(key) {\n",
              "      const quickchartButtonEl =\n",
              "        document.querySelector('#' + key + ' button');\n",
              "      quickchartButtonEl.disabled = true;  // To prevent multiple clicks.\n",
              "      quickchartButtonEl.classList.add('colab-df-spinner');\n",
              "      try {\n",
              "        const charts = await google.colab.kernel.invokeFunction(\n",
              "            'suggestCharts', [key], {});\n",
              "      } catch (error) {\n",
              "        console.error('Error during call to suggestCharts:', error);\n",
              "      }\n",
              "      quickchartButtonEl.classList.remove('colab-df-spinner');\n",
              "      quickchartButtonEl.classList.add('colab-df-quickchart-complete');\n",
              "    }\n",
              "    (() => {\n",
              "      let quickchartButtonEl =\n",
              "        document.querySelector('#df-c5dbe5ee-c92d-4faf-baba-8a715fd7298e button');\n",
              "      quickchartButtonEl.style.display =\n",
              "        google.colab.kernel.accessAllowed ? 'block' : 'none';\n",
              "    })();\n",
              "  </script>\n",
              "</div>\n",
              "\n",
              "    </div>\n",
              "  </div>\n"
            ],
            "application/vnd.google.colaboratory.intrinsic+json": {
              "type": "dataframe",
              "variable_name": "df"
            }
          },
          "metadata": {},
          "execution_count": 24
        }
      ]
    },
    {
      "cell_type": "code",
      "source": [
        "## Análise event_type\n",
        "print(df['event_type'].head())\n"
      ],
      "metadata": {
        "colab": {
          "base_uri": "https://localhost:8080/"
        },
        "id": "LE40KrRpXhon",
        "outputId": "b55de902-9abb-4830-9320-d0bec4acc60d"
      },
      "execution_count": 26,
      "outputs": [
        {
          "output_type": "stream",
          "name": "stdout",
          "text": [
            "0    cart\n",
            "1    view\n",
            "2    view\n",
            "3    view\n",
            "4    view\n",
            "Name: event_type, dtype: object\n"
          ]
        }
      ]
    },
    {
      "cell_type": "code",
      "source": [
        "unique_events = df['event_type'].unique()\n",
        "print(unique_events)\n"
      ],
      "metadata": {
        "colab": {
          "base_uri": "https://localhost:8080/"
        },
        "id": "JiKzFUf1X98U",
        "outputId": "71ca5a55-5505-4172-f05e-73caa6179ba0"
      },
      "execution_count": 27,
      "outputs": [
        {
          "output_type": "stream",
          "name": "stdout",
          "text": [
            "['cart' 'view' 'purchase']\n"
          ]
        }
      ]
    },
    {
      "cell_type": "markdown",
      "source": [
        "É importante se atentar que o evento \"cart\" consiste na inclusão de um ou mais itens no carrinho. Já o evento \"view\" consiste na visualização de algum item. Enquanto o evento \"purchase\" consiste na compra de um determinado item."
      ],
      "metadata": {
        "id": "8xLQIYhEnT8I"
      }
    },
    {
      "cell_type": "code",
      "source": [
        "# Convertendo 'event_time' para datetime e extraindo o mês\n",
        "df['event_time'] = pd.to_datetime(df['event_time'])\n",
        "df['month'] = df['event_time'].dt.to_period('M')"
      ],
      "metadata": {
        "id": "1q8lZma6YvC_"
      },
      "execution_count": 28,
      "outputs": []
    },
    {
      "cell_type": "code",
      "source": [
        "event_counts = df.groupby(['month', 'event_type']).size().reset_index(name='count')\n",
        "# Calcular o total de eventos por mês\n",
        "total_events_per_month = event_counts.groupby('month')['count'].transform('sum')\n",
        "\n",
        "# Calcular a participação percentual\n",
        "event_counts['percentage'] = (event_counts['count'] / total_events_per_month) * 100\n"
      ],
      "metadata": {
        "id": "6QR_ctoCZTAC"
      },
      "execution_count": 29,
      "outputs": []
    },
    {
      "cell_type": "code",
      "source": [
        "plt.figure(figsize=(12, 8))\n",
        "sns.barplot(x='month', y='percentage', hue='event_type', data=event_counts)\n",
        "plt.title('Participação Percentual de Cada Tipo de Evento por Mês')\n",
        "plt.xlabel('Mês')\n",
        "plt.ylabel('Participação Percentual')\n",
        "plt.xticks(rotation=45)\n",
        "plt.legend(title='Tipo de Evento')\n",
        "plt.show()"
      ],
      "metadata": {
        "colab": {
          "base_uri": "https://localhost:8080/",
          "height": 755
        },
        "id": "d7KZn_J0ZXLM",
        "outputId": "bde79b61-504d-4cf4-ffbf-b379196ff0cd"
      },
      "execution_count": 30,
      "outputs": [
        {
          "output_type": "display_data",
          "data": {
            "text/plain": [
              "<Figure size 1200x800 with 1 Axes>"
            ],
            "image/png": "[encoded data removed]"
          },
          "metadata": {}
        }
      ]
    },
    {
      "cell_type": "code",
      "source": [
        "# Agrupamento por mês e tipo de evento\n",
        "event_counts = df.groupby(['month', 'event_type']).size().reset_index(name='count')\n",
        "\n",
        "# Separando as contagens de visualizações/compras\n",
        "views_per_month = event_counts[event_counts['event_type'] == 'view'].rename(columns={'count': 'views'})\n",
        "purchases_per_month = event_counts[event_counts['event_type'] == 'purchase'].rename(columns={'count': 'purchases'})\n",
        "\n",
        "# Mesclando os dfs com base em 'month'\n",
        "conversion_data = pd.merge(views_per_month[['month', 'views']], purchases_per_month[['month', 'purchases']], on='month', how='outer')\n",
        "\n",
        "# Preenchendo valores NaN com 0 para meses onde não houve compras ou visualizações\n",
        "conversion_data.fillna(0, inplace=True)\n",
        "\n",
        "# Calculando a taxa de conversão como (compras / visualizações) * 100\n",
        "conversion_data['conversion_rate'] = (conversion_data['purchases'] / conversion_data['views']) * 100\n",
        "\n",
        "# Mostrando os resultados\n",
        "print(conversion_data[['month', 'conversion_rate']])\n",
        "\n"
      ],
      "metadata": {
        "colab": {
          "base_uri": "https://localhost:8080/"
        },
        "id": "W3UPcHw5rXAH",
        "outputId": "c39b493c-8188-4760-e953-f31725f2bee4"
      },
      "execution_count": 40,
      "outputs": [
        {
          "output_type": "stream",
          "name": "stdout",
          "text": [
            "     month  conversion_rate\n",
            "0  2019-10         1.026649\n",
            "1  2019-11         0.875915\n",
            "2  2019-12         1.100570\n",
            "3  2020-01         0.887315\n",
            "4  2020-02         1.394063\n",
            "5  2020-03         1.282196\n"
          ]
        }
      ]
    },
    {
      "cell_type": "code",
      "source": [
        "df['month'] = df['event_time'].dt.to_period('M')\n",
        "\n",
        "# Contando os eventos de 'cart' e 'purchase' por mês\n",
        "cart_counts = df[df['event_type'] == 'cart'].groupby('month').size().reset_index(name='cart_counts')\n",
        "purchase_counts = df[df['event_type'] == 'purchase'].groupby('month').size().reset_index(name='purchase_counts')\n",
        "\n",
        "# Mesclando os DataFrames de contagem de carrinho e compra baseados no mês\n",
        "monthly_conversion = pd.merge(cart_counts, purchase_counts, on='month')\n",
        "\n",
        "# Calculando a taxa de conversão do carrinho para compra por mês\n",
        "monthly_conversion['conversion_rate'] = (monthly_conversion['purchase_counts'] / monthly_conversion['cart_counts']) * 100\n",
        "\n",
        "# taxa de conversão do carrinho por mês\n",
        "print(monthly_conversion[['month', 'conversion_rate']])\n"
      ],
      "metadata": {
        "colab": {
          "base_uri": "https://localhost:8080/"
        },
        "id": "cdWC2hjUwZ7w",
        "outputId": "f02e5b8d-70ff-47fc-a37a-72fe25f97dea"
      },
      "execution_count": 41,
      "outputs": [
        {
          "output_type": "stream",
          "name": "stdout",
          "text": [
            "     month  conversion_rate\n",
            "0  2019-10       103.061224\n",
            "1  2019-11        28.133705\n",
            "2  2019-12        28.522838\n",
            "3  2020-01        27.514451\n",
            "4  2020-02        34.163209\n",
            "5  2020-03        31.315910\n"
          ]
        }
      ]
    },
    {
      "cell_type": "markdown",
      "source": [
        "# **Taxa de conversão**\n",
        "\n",
        "Para um comércio eletrônico a taxa de conversão é um indicador importante e que precisa ser acompanhado de algumas práticas para\n",
        "proporcionar o crescimento e a fidelização dos clientes. Para o cenário em questão é possível notar que o número de visualizações é constante, a queda mais relevante foi entre 11/2019 e 12/2019, porém sem apresentar uma queda expressiva.\n",
        "Enquanto isso, o número de itens adicionado ao carrinho cresceu entre 11 e 12/2019, mas obteve uma queda sutil em 01/2020 e se mantendo estável até o final da análise.\n",
        "Já as compras efetivadas passou por uma série de estabilidade, tendo quedas e recuperações ao longo do período.\n",
        "\n",
        "Os meses com maior taxa de conversão:\n",
        "\n",
        "\n",
        "1.   02/2020;\n",
        "2.   03/2020;\n",
        "3.   12/2019;\n",
        "\n",
        "# **Taxa de conversão de carrinho**\n",
        "No mês 10/2019 a taxa de conversão de carrinho foi acima de 100%, isso pode ocorrer por algumas variáveis. A primeira por alguma duplicidade de dados na base, porém essa limpeza foi feita anteriormente e validada. A segunda possibilidade consiste na compra sem adição dos itens no carrinho.\n",
        "\n",
        "Os meses com maior taxa de conversão de carrinho:\n",
        "\n",
        "1.   10/2019;\n",
        "2.   02/2020:\n",
        "3.   03/2020;\n",
        "\n"
      ],
      "metadata": {
        "id": "o6DRvCatoGUw"
      }
    },
    {
      "cell_type": "code",
      "source": [
        "print(df['event_type'].value_counts())\n"
      ],
      "metadata": {
        "colab": {
          "base_uri": "https://localhost:8080/"
        },
        "id": "vRDQ0Kj7bxSv",
        "outputId": "0f16eaf0-0a34-472e-f89d-664ce608d73a"
      },
      "execution_count": 38,
      "outputs": [
        {
          "output_type": "stream",
          "name": "stdout",
          "text": [
            "view        330084\n",
            "cart         10521\n",
            "purchase      3598\n",
            "Name: event_type, dtype: int64\n"
          ]
        }
      ]
    },
    {
      "cell_type": "code",
      "source": [
        "print(df['event_time'].head())\n"
      ],
      "metadata": {
        "colab": {
          "base_uri": "https://localhost:8080/"
        },
        "id": "Iw0qcRaGcd2a",
        "outputId": "018f4ac9-18c0-4248-e22d-5ad40948ee31"
      },
      "execution_count": 39,
      "outputs": [
        {
          "output_type": "stream",
          "name": "stdout",
          "text": [
            "0   2019-12-25 08:41:42\n",
            "1   2019-12-02 10:28:05\n",
            "2   2019-12-02 13:09:11\n",
            "3   2019-12-17 05:32:16\n",
            "4   2019-12-27 19:04:13\n",
            "Name: event_time, dtype: datetime64[ns]\n"
          ]
        }
      ]
    },
    {
      "cell_type": "code",
      "source": [
        "# Selecionando a coluna desejada\n",
        "compras = df[df['event_type'] == 'purchase']\n",
        "\n",
        "# Calculando o AOV total\n",
        "aov = compras['price'].mean()\n",
        "print(f'O Valor Médio do Pedido (AOV) é: {aov:.2f}')\n",
        "\n"
      ],
      "metadata": {
        "colab": {
          "base_uri": "https://localhost:8080/"
        },
        "id": "0Ojrqld0tOLA",
        "outputId": "64e3302d-3e46-4b67-9be9-f77b58446d4c"
      },
      "execution_count": null,
      "outputs": [
        {
          "output_type": "stream",
          "name": "stdout",
          "text": [
            "O Valor Médio do Pedido (AOV) é: 116.80\n"
          ]
        }
      ]
    },
    {
      "cell_type": "markdown",
      "source": [
        "##AOV ( valor médio por pedido)"
      ],
      "metadata": {
        "id": "HDp86O6jzzYt"
      }
    },
    {
      "cell_type": "code",
      "source": [
        "# Selecionando os critérios necessários para a análise\n",
        "df['event_time'] = pd.to_datetime(df['event_time'])\n",
        "df['month'] = df['event_time'].dt.to_period('M')\n",
        "compras = df[df['event_type'] == 'purchase']\n",
        "aov_por_mes = compras.groupby('month')['price'].mean().reset_index()\n",
        "aov_por_mes.rename(columns={'price': 'AOV'}, inplace=True)\n",
        "\n",
        "# Criando o gráfico\n",
        "plt.figure(figsize=(10, 6))\n",
        "plt.plot(aov_por_mes['month'].astype(str), aov_por_mes['AOV'], marker='o')\n",
        "plt.title('AOV por Mês')\n",
        "plt.xlabel('Mês')\n",
        "plt.ylabel('Valor Médio do Pedido (AOV)')\n",
        "plt.xticks(rotation=45)\n",
        "plt.grid(True)\n",
        "plt.show()\n"
      ],
      "metadata": {
        "colab": {
          "base_uri": "https://localhost:8080/",
          "height": 601
        },
        "id": "18v_EEC3vz3R",
        "outputId": "51a20de8-fdeb-4933-eb2c-cfa77ce74236"
      },
      "execution_count": 42,
      "outputs": [
        {
          "output_type": "display_data",
          "data": {
            "text/plain": [
              "<Figure size 1000x600 with 1 Axes>"
            ],
            "image/png": "[encoded data removed]"
          },
          "metadata": {}
        }
      ]
    },
    {
      "cell_type": "code",
      "source": [
        "# Análise das 5 menores categorias por AOV\n",
        "compras = df[df['event_type'] == 'purchase']\n",
        "aov_por_categoria = compras.groupby('category_code')['price'].mean().reset_index()\n",
        "aov_por_categoria.rename(columns={'price': 'AOV'}, inplace=True)\n",
        "categorias_menores_aov = aov_por_categoria.sort_values(by='AOV').reset_index(drop=True)\n",
        "print(categorias_menores_aov.head(5))\n"
      ],
      "metadata": {
        "colab": {
          "base_uri": "https://localhost:8080/"
        },
        "id": "Fr-VeCKLzRgi",
        "outputId": "58ec38f3-d388-4286-ea4b-d52b43fa41a1"
      },
      "execution_count": 43,
      "outputs": [
        {
          "output_type": "stream",
          "name": "stdout",
          "text": [
            "                  category_code        AOV\n",
            "0      furniture.bedroom.pillow   8.296667\n",
            "1     furniture.universal.light   8.847353\n",
            "2                  apparel.belt  10.040000\n",
            "3   construction.tools.painting  13.458000\n",
            "4  auto.accessories.anti_freeze  15.420000\n"
          ]
        }
      ]
    },
    {
      "cell_type": "markdown",
      "source": [
        "# Análise AOV\n",
        "\n",
        "O mês 10/2019 foi responsável pelo maior AOV, com isso, foi possível notar que os clientes estavam comprando itens em maior quantidade ou com maior valor agregado. Dessa forma, é importante analisar o número de itens por pedido ao longo do período. A categoria \"auto.accessories.anti_freeze\" possui o maior o AOV.\n",
        "\n",
        "\n",
        "\n"
      ],
      "metadata": {
        "id": "RqG8J92B1jv9"
      }
    },
    {
      "cell_type": "code",
      "source": [
        "## Análise da quantidade de itens por pedido\n",
        "\n",
        "# Ajustando a conversão de datetime\n",
        "df['event_time'] = pd.to_datetime(df['event_time']).dt.tz_localize(None)\n",
        "df['month'] = df['event_time'].dt.to_period('M')\n",
        "\n",
        "itens_por_pedido = df.groupby(['product_id', 'month']).size().reset_index(name='item_count')\n",
        "\n",
        "# Calculando a média de itens por pedido\n",
        "media_itens_por_mes = itens_por_pedido.groupby('month')['item_count'].mean().reset_index()\n",
        "\n",
        "# Média de itens por pedido ao longo dos meses\n",
        "plt.figure(figsize=(12, 6))\n",
        "plt.plot(media_itens_por_mes['month'].astype(str), media_itens_por_mes['item_count'], marker='o', linestyle='-')\n",
        "plt.title('Média de Itens por Pedido ao Longo dos Meses')\n",
        "plt.xlabel('Mês')\n",
        "plt.ylabel('Média de Itens por Pedido')\n",
        "plt.xticks(rotation=45)\n",
        "plt.grid(True)\n",
        "plt.show()\n"
      ],
      "metadata": {
        "colab": {
          "base_uri": "https://localhost:8080/",
          "height": 601
        },
        "id": "EJM1trHaJv70",
        "outputId": "ae2c4345-f551-48a3-e87a-21e3e9a6d39c"
      },
      "execution_count": 44,
      "outputs": [
        {
          "output_type": "display_data",
          "data": {
            "text/plain": [
              "<Figure size 1200x600 with 1 Axes>"
            ],
            "image/png": "[encoded data removed]"
          },
          "metadata": {}
        }
      ]
    },
    {
      "cell_type": "code",
      "source": [
        "# Ajustando a coluna 'event_time' para evitar erros\n",
        "df['event_time'] = pd.to_datetime(df['event_time']).dt.tz_localize(None)\n",
        "df['month'] = df['event_time'].dt.to_period('M')\n",
        "\n",
        "# Apenas eventos de compra\n",
        "df_compras = df[df['event_type'] == 'purchase']\n",
        "\n",
        "# Preço médio dos produtos por mês\n",
        "preco_medio_por_mes = df_compras.groupby('month')['price'].mean().reset_index()\n",
        "\n",
        "# Plotando o preço médio dos produtos por mês\n",
        "plt.figure(figsize=(12, 6))\n",
        "plt.plot(preco_medio_por_mes['month'].astype(str), preco_medio_por_mes['price'], marker='o', linestyle='-', color='blue')\n",
        "plt.title('Preço Médio dos Produtos por Mês')\n",
        "plt.xlabel('Mês')\n",
        "plt.ylabel('Preço Médio ($)')\n",
        "plt.xticks(rotation=45)\n",
        "plt.grid(True)\n",
        "plt.show()"
      ],
      "metadata": {
        "colab": {
          "base_uri": "https://localhost:8080/",
          "height": 601
        },
        "id": "fPtsIa582xw3",
        "outputId": "49bdb001-0b5d-438b-ce84-777fab7f09f2"
      },
      "execution_count": 47,
      "outputs": [
        {
          "output_type": "display_data",
          "data": {
            "text/plain": [
              "<Figure size 1200x600 with 1 Axes>"
            ],
            "image/png": "[encoded data removed]"
          },
          "metadata": {}
        }
      ]
    },
    {
      "cell_type": "markdown",
      "source": [
        "# Quantidade de itens por pedido\n",
        "\n",
        "Com essa análise foi possível notar que o perfil de compra dos consumidores mudou, apesar do número de itens de 10/2019 o número médio de itens não foi o maior, teve maior participação monetária.\n",
        "O mês 11/2019 foi responsável pela menor média de produtos por compra, ficando abaixo de 2,6. É preciso entender o motivo da mudança de comportamento, pois foi uma mudança expressiva a partir de 12/2019.\n",
        "\n",
        "# Preço médio dos produtos por mês\n",
        "\n",
        "Houve uma queda ao longo do período no valor de compras, começando no mês 11/2019. Porém a diminuição do preço médio de compra por mês está associada ao aumento no número de itens por pedido.\n",
        "É possível inferir algumas hipóteses:\n",
        "\n",
        "*   Mudança no mix de produtos;\n",
        "*   Mudança na precificação e promoções;"
      ],
      "metadata": {
        "id": "ChBSZqhqLXqY"
      }
    },
    {
      "cell_type": "code",
      "source": [
        "# Análise do padrão de compra por mês\n",
        "df['event_time'] = pd.to_datetime(df['event_time'])\n",
        "\n",
        "# Agrupar por mês e contar compras\n",
        "compras_por_mes = compras.resample('M', on='event_time').size()\n",
        "\n",
        "# Plotar compras por mês\n",
        "compras_por_mes.plot(title='Compras por Mês')\n",
        "plt.xlabel('Mês')\n",
        "plt.ylabel('Número de Compras')\n",
        "plt.show()\n",
        "\n"
      ],
      "metadata": {
        "colab": {
          "base_uri": "https://localhost:8080/",
          "height": 488
        },
        "id": "ZkJI7PHkfczE",
        "outputId": "fcd54d87-763e-4783-8221-2395363e90e2"
      },
      "execution_count": null,
      "outputs": [
        {
          "output_type": "display_data",
          "data": {
            "text/plain": [
              "<Figure size 640x480 with 1 Axes>"
            ],
            "image/png": "[encoded data removed]"
          },
          "metadata": {}
        }
      ]
    },
    {
      "cell_type": "code",
      "source": [
        "## Vendas totais por período\n",
        "# Supondo que df seja o seu DataFrame\n",
        "df['event_time'] = pd.to_datetime(df['event_time'])\n",
        "compras = df[df['event_type'] == 'purchase']\n",
        "\n",
        "compras['month'] = compras['event_time'].dt.to_period('M')\n",
        "vendas_por_mes = compras.groupby('month')['price'].sum().reset_index()\n",
        "\n",
        "# Plotando o valor total vendido por mês\n",
        "plt.figure(figsize=(12, 6))\n",
        "plt.plot(vendas_por_mes['month'].astype(str), vendas_por_mes['price'], marker='o')\n",
        "plt.title('Valor Total Vendido por Mês')\n",
        "plt.xlabel('Mês')\n",
        "plt.ylabel('Valor Total Vendido')\n",
        "plt.xticks(rotation=45)\n",
        "plt.grid(True)\n",
        "plt.show()\n"
      ],
      "metadata": {
        "colab": {
          "base_uri": "https://localhost:8080/",
          "height": 705
        },
        "id": "G0ji2WC4n4vj",
        "outputId": "dc477d4c-e7e6-4e5d-d02f-dadfa99940dd"
      },
      "execution_count": 48,
      "outputs": [
        {
          "output_type": "stream",
          "name": "stderr",
          "text": [
            "<ipython-input-48-1aba1a4138e1>:6: SettingWithCopyWarning: \n",
            "A value is trying to be set on a copy of a slice from a DataFrame.\n",
            "Try using .loc[row_indexer,col_indexer] = value instead\n",
            "\n",
            "See the caveats in the documentation: https://pandas.pydata.org/pandas-docs/stable/user_guide/indexing.html#returning-a-view-versus-a-copy\n",
            "  compras['month'] = compras['event_time'].dt.to_period('M')\n"
          ]
        },
        {
          "output_type": "display_data",
          "data": {
            "text/plain": [
              "<Figure size 1200x600 with 1 Axes>"
            ],
            "image/png": "[encoded data removed]"
          },
          "metadata": {}
        }
      ]
    },
    {
      "cell_type": "code",
      "source": [
        "# Análise do preço médio dos itens por mês\n",
        "df['event_time'] = pd.to_datetime(df['event_time']).dt.tz_localize(None)\n",
        "\n",
        "# Adicionando uma coluna 'month' com 'event_time'\n",
        "df['month'] = df['event_time'].dt.to_period('M')\n",
        "\n",
        "# Filtrando eventos de compra\n",
        "df_compras = df[df['event_type'] == 'purchase']\n",
        "\n",
        "# Preço médio dos produtos p/ mês\n",
        "preco_medio_por_mes = df_compras.groupby('month')['price'].mean().reset_index()\n",
        "\n",
        "# Imagem preço médio dos produtos por mês\n",
        "plt.figure(figsize=(12, 6))\n",
        "plt.plot(preco_medio_por_mes['month'].astype(str), preco_medio_por_mes['price'], marker='o', linestyle='-', color='green')\n",
        "plt.title('Preço Médio dos Itens por Mês')\n",
        "plt.xlabel('Mês')\n",
        "plt.ylabel('Preço Médio ($)')\n",
        "plt.xticks(rotation=45)\n",
        "plt.grid(True)\n",
        "plt.show()"
      ],
      "metadata": {
        "colab": {
          "base_uri": "https://localhost:8080/",
          "height": 601
        },
        "id": "ndHUO6Cj6Tpg",
        "outputId": "da2e0e4f-4c9c-4a3c-97a1-a5c545386d64"
      },
      "execution_count": 49,
      "outputs": [
        {
          "output_type": "display_data",
          "data": {
            "text/plain": [
              "<Figure size 1200x600 with 1 Axes>"
            ],
            "image/png": "[encoded data removed]"
          },
          "metadata": {}
        }
      ]
    },
    {
      "cell_type": "code",
      "source": [
        "# Ajuste 'event_time' removendo informações de timezone e criar a coluna 'month'\n",
        "df['event_time'] = pd.to_datetime(df['event_time']).dt.tz_localize(None)\n",
        "df['month'] = df['event_time'].dt.to_period('M')\n",
        "\n",
        "# Filtrar para incluir apenas eventos de compra\n",
        "df_purchases = df[df['event_type'] == 'purchase']\n",
        "\n",
        "# Contando o número de vendas por categoria\n",
        "sales_per_category_per_month = df_purchases.groupby(['month', 'category_code']).size().reset_index(name='sales_count')\n",
        "\n",
        "# Identificar a categoria mais vendida por mês\n",
        "most_sold_categories_per_month = sales_per_category_per_month.sort_values(by=['month', 'sales_count'], ascending=[True, False]).drop_duplicates('month')\n",
        "\n",
        "# Exibindo o resultado\n",
        "print(most_sold_categories_per_month)"
      ],
      "metadata": {
        "colab": {
          "base_uri": "https://localhost:8080/"
        },
        "id": "30AGygFK7MiT",
        "outputId": "f610ce69-158a-43e4-8b75-7237bf1b446d"
      },
      "execution_count": 52,
      "outputs": [
        {
          "output_type": "stream",
          "name": "stdout",
          "text": [
            "       month                    category_code  sales_count\n",
            "13   2019-10       appliances.kitchen.blender           20\n",
            "89   2019-11  appliances.kitchen.meat_grinder           11\n",
            "156  2019-12       appliances.kitchen.blender           25\n",
            "236  2020-01        appliances.kitchen.kettle           26\n",
            "340  2020-02          furniture.bathroom.bath           41\n",
            "404  2020-03         electronics.camera.video           39\n"
          ]
        }
      ]
    },
    {
      "cell_type": "markdown",
      "source": [
        "# Recomendações"
      ],
      "metadata": {
        "id": "yQbbqJVV5jYH"
      }
    },
    {
      "cell_type": "markdown",
      "source": [
        "### *Gestão de relacionamento*\n",
        "\n",
        "Um dos objetivos da área de negócio é aumentar a taxa de conversão e de conversão de carrinho. É importante acessar os clientes corretos e utilizar a melhor forma de comunicação dado ao perfil do cliente.\n",
        "\n",
        "\n",
        "**Taxa de Conversão**\n",
        "\n",
        "Será necessário aplicar um teste A/B na base de 200k usuários, que no período analisado visualizaram itens e não realizaram nenhuma compra.\n",
        "\n",
        "O teste A/B será realizado com 60% da base de dados, utilizando e-mail marketing e avaliar durante 2 meses como será o comportamento dos clientes afetados.\n",
        "\n",
        "**Taxa de conversão de carrinho**\n",
        "\n",
        "Nesse caso, sugiro uma medida mais agressiva, uma vez que já houve a ação de selecionar e incluir os itens no carrinho. Sugiro enviar um \"push notificator\"para toda a base de 10k com carrinhos abandonados, com uma mensagem de lembrete que há itens no carrinho."
      ],
      "metadata": {
        "id": "3kufFKRP7-zZ"
      }
    },
    {
      "cell_type": "code",
      "source": [
        "##Análise de visitantes não convertidos\n",
        "views = df[df['event_type'] == 'view']\n",
        "purchases = df[df['event_type'] == 'purchase']\n",
        "\n",
        "# Identificando usuários únicos que visualizaram produtos\n",
        "viewers = set(views['user_id'].unique())\n",
        "\n",
        "# Identificando usuários únicos que realizaram compras\n",
        "buyers = set(purchases['user_id'].unique())\n",
        "\n",
        "# Identificando usuários não convertidos\n",
        "viewers_not_buyers = viewers.difference(buyers)\n",
        "\n",
        "# Convertendo o conjunto em uma lista para visualização ou uso posterior\n",
        "viewers_not_buyers_list = list(viewers_not_buyers)\n",
        "\n",
        "df_viewers_not_buyers = pd.DataFrame(viewers_not_buyers_list, columns=['user_id'])\n",
        "\n",
        "print(df_viewers_not_buyers)"
      ],
      "metadata": {
        "colab": {
          "base_uri": "https://localhost:8080/"
        },
        "id": "WaWRdesY86Wg",
        "outputId": "f3894d9a-9e52-4531-ba66-970daf7411ab"
      },
      "execution_count": 53,
      "outputs": [
        {
          "output_type": "stream",
          "name": "stdout",
          "text": [
            "          user_id\n",
            "0       591396873\n",
            "1       519045129\n",
            "2       514850828\n",
            "3       622854157\n",
            "4       513802264\n",
            "...           ...\n",
            "269275  553648110\n",
            "269276  530579443\n",
            "269277  595591160\n",
            "269278  543162361\n",
            "269279  517996542\n",
            "\n",
            "[269280 rows x 1 columns]\n"
          ]
        }
      ]
    },
    {
      "cell_type": "code",
      "source": [
        "# Análise de usuários com carrinho abandonado\n",
        "carts = df[df['event_type'] == 'cart']\n",
        "purchases = df[df['event_type'] == 'purchase']\n",
        "\n",
        "# Identificando usuários únicos que adicionaram produtos ao carrinho\n",
        "cart_users = set(carts['user_id'].unique())\n",
        "\n",
        "# Identificando usuários únicos que realizaram compras\n",
        "buyers = set(purchases['user_id'].unique())\n",
        "\n",
        "# Identificando usuários que adicionaram ao carrinho mas não compraram\n",
        "cart_users_not_buyers = cart_users.difference(buyers)\n",
        "\n",
        "# Convertendo o conjunto em uma lista para visualização ou uso posterior\n",
        "cart_users_not_buyers_list = list(cart_users_not_buyers)\n",
        "\n",
        "# Consolidando em um df\n",
        "df_cart_users_not_buyers = pd.DataFrame(cart_users_not_buyers_list, columns=['user_id'])\n",
        "print(df_cart_users_not_buyers)"
      ],
      "metadata": {
        "colab": {
          "base_uri": "https://localhost:8080/"
        },
        "id": "XuZcpOsXAWrB",
        "outputId": "a7bf0e3a-47bd-4646-94a7-988b59ae4c09"
      },
      "execution_count": 55,
      "outputs": [
        {
          "output_type": "stream",
          "name": "stdout",
          "text": [
            "         user_id\n",
            "0      551518208\n",
            "1      588808193\n",
            "2      572817408\n",
            "3      513048577\n",
            "4      592183300\n",
            "...          ...\n",
            "10146  568262639\n",
            "10147  517472245\n",
            "10148  537788405\n",
            "10149  598933498\n",
            "10150  533037054\n",
            "\n",
            "[10151 rows x 1 columns]\n"
          ]
        }
      ]
    },
    {
      "cell_type": "markdown",
      "source": [
        "##*Personalização*\n",
        "\n",
        "**Sistema de recomendação**\n",
        "\n",
        "Com o objetivo de aumentar o AOV, sugiro implementar um sistema de recomenção com base no perfil de compra de cada cliente. Isso permitirá uma diversificação no portfólio e ampliação do AOV."
      ],
      "metadata": {
        "id": "nQBwZzim-Kbt"
      }
    },
    {
      "cell_type": "markdown",
      "source": [
        "## Campanha de marketing\n",
        "\n",
        "As visualizações não possuem uma variação consideravél entre as categorias, diante disso pode-se seguir com uma estratégia macro, focando em uma campanha que potencialize a marca do e-commerce, gerando mais interesse em conhecer a plataforma e os produtos disponíveis. Para isso, poderá ser utilizado anúncios em plataformas como facebook, twitter, instagram e o próprio google analytics. Para o sucesso dessa estratégia é necessário compreender em qual canal os possíveis clientes estão inseridos e qual possui a maior influência de compra."
      ],
      "metadata": {
        "id": "35v30f7UFxnD"
      }
    },
    {
      "cell_type": "code",
      "source": [
        "# Filtrar eventos de visualização\n",
        "views = df[df['event_type'] == 'view']\n",
        "\n",
        "# Agrupar por categoria e contar visualizações\n",
        "category_views = views.groupby('category_code').size().reset_index(name='view_count')\n",
        "\n",
        "# Ordenar as categorias pelo número de visualizações, em ordem decrescente\n",
        "category_views_sorted = category_views.sort_values(by='view_count', ascending=False)\n",
        "\n",
        "# Exibir as categorias com maiores visualizações\n",
        "print(category_views_sorted.head())"
      ],
      "metadata": {
        "colab": {
          "base_uri": "https://localhost:8080/"
        },
        "id": "4eInK3BLFmBb",
        "outputId": "495c22bc-070c-4f8b-b088-773e71b2e989"
      },
      "execution_count": 59,
      "outputs": [
        {
          "output_type": "stream",
          "name": "stdout",
          "text": [
            "                        category_code  view_count\n",
            "28  appliances.environment.air_heater        7293\n",
            "55          appliances.sewing_machine        7147\n",
            "42            appliances.kitchen.hood        7042\n",
            "44          appliances.kitchen.kettle        6721\n",
            "2                  accessories.wallet        6475\n"
          ]
        }
      ]
    }
  ]
}